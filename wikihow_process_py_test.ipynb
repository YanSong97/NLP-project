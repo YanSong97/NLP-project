{
  "nbformat": 4,
  "nbformat_minor": 0,
  "metadata": {
    "colab": {
      "name": "wikihow process.py test.ipynb",
      "provenance": [],
      "collapsed_sections": [],
      "mount_file_id": "1c-t_Ta6CYM_DdzVuR4-ASRNuBVgkUtS-",
      "authorship_tag": "ABX9TyN4QwuodzaE3jOsJYUwa7Ss",
      "include_colab_link": true
    },
    "kernelspec": {
      "name": "python3",
      "display_name": "Python 3"
    }
  },
  "cells": [
    {
      "cell_type": "markdown",
      "metadata": {
        "id": "view-in-github",
        "colab_type": "text"
      },
      "source": [
        "<a href=\"https://colab.research.google.com/github/YanSong97/NLP-project/blob/master/wikihow_process_py_test.ipynb\" target=\"_parent\"><img src=\"https://colab.research.google.com/assets/colab-badge.svg\" alt=\"Open In Colab\"/></a>"
      ]
    },
    {
      "cell_type": "markdown",
      "metadata": {
        "id": "rsMIx0SXWNl9",
        "colab_type": "text"
      },
      "source": [
        "##test process.py for wikihow data set \n",
        "\n",
        "(code source: https://github.com/mahnazkoupaee/WikiHow-Dataset)\n",
        "\n",
        "'''\n",
        "This code is used to create article and summary files from the csv file.\n",
        "The output of the file will be a directory of text files representing seoarate articles and their summaries.\n",
        "Each summary line starts with tag \"@summary\" and the article is followed by \"@article\".\n",
        "'''\n",
        "\n",
        "input: wikihowAll.csv      \n",
        "output: title.txt  +  a folder named \"article\" containing 215365 txt files (one for each article)  \n",
        "\n",
        "Link of drive folder: https://drive.google.com/drive/folders/1_8s_A0OC5153gktx6dSbzLh02QJtI9LS?usp=sharing\n",
        "\n",
        "%time: the whole notebook tooks 70 mins on colab"
      ]
    },
    {
      "cell_type": "code",
      "metadata": {
        "id": "DxPZ854mJz10",
        "colab_type": "code",
        "colab": {}
      },
      "source": [
        "import pandas as pd\n",
        "import os\n",
        "import re"
      ],
      "execution_count": 0,
      "outputs": []
    },
    {
      "cell_type": "code",
      "metadata": {
        "id": "zzrs4OV5NGkq",
        "colab_type": "code",
        "outputId": "a7d640bc-5773-4b83-ae92-93efbc6b377a",
        "colab": {
          "base_uri": "https://localhost:8080/",
          "height": 34
        }
      },
      "source": [
        "from google.colab import drive\n",
        "drive.mount('/content/drive')"
      ],
      "execution_count": 0,
      "outputs": [
        {
          "output_type": "stream",
          "text": [
            "Drive already mounted at /content/drive; to attempt to forcibly remount, call drive.mount(\"/content/drive\", force_remount=True).\n"
          ],
          "name": "stdout"
        }
      ]
    },
    {
      "cell_type": "code",
      "metadata": {
        "id": "lBmk-T0YXoOW",
        "colab_type": "code",
        "colab": {}
      },
      "source": [
        "# read data from the csv file (from the location it is stored)\n",
        "Data = pd.read_csv(r'/content/drive/My Drive/NLP PROJ/wikihow/wikihowAll.csv')\n",
        "Data = Data.astype(str)\n",
        "rows, columns = Data.shape"
      ],
      "execution_count": 0,
      "outputs": []
    },
    {
      "cell_type": "code",
      "metadata": {
        "id": "w7Wf8PzOX5Mc",
        "colab_type": "code",
        "outputId": "348a2dc9-d805-4988-f4d1-b0aa0b9d3d71",
        "colab": {
          "base_uri": "https://localhost:8080/",
          "height": 419
        }
      },
      "source": [
        "Data"
      ],
      "execution_count": 0,
      "outputs": [
        {
          "output_type": "execute_result",
          "data": {
            "text/html": [
              "<div>\n",
              "<style scoped>\n",
              "    .dataframe tbody tr th:only-of-type {\n",
              "        vertical-align: middle;\n",
              "    }\n",
              "\n",
              "    .dataframe tbody tr th {\n",
              "        vertical-align: top;\n",
              "    }\n",
              "\n",
              "    .dataframe thead th {\n",
              "        text-align: right;\n",
              "    }\n",
              "</style>\n",
              "<table border=\"1\" class=\"dataframe\">\n",
              "  <thead>\n",
              "    <tr style=\"text-align: right;\">\n",
              "      <th></th>\n",
              "      <th>headline</th>\n",
              "      <th>title</th>\n",
              "      <th>text</th>\n",
              "    </tr>\n",
              "  </thead>\n",
              "  <tbody>\n",
              "    <tr>\n",
              "      <th>0</th>\n",
              "      <td>\\nKeep related supplies in the same area.,\\nMa...</td>\n",
              "      <td>How to Be an Organized Artist1</td>\n",
              "      <td>If you're a photographer, keep all the necess...</td>\n",
              "    </tr>\n",
              "    <tr>\n",
              "      <th>1</th>\n",
              "      <td>\\nCreate a sketch in the NeoPopRealist manner ...</td>\n",
              "      <td>How to Create a Neopoprealist Art Work</td>\n",
              "      <td>See the image for how this drawing develops s...</td>\n",
              "    </tr>\n",
              "    <tr>\n",
              "      <th>2</th>\n",
              "      <td>\\nGet a bachelor’s degree.,\\nEnroll in a studi...</td>\n",
              "      <td>How to Be a Visual Effects Artist1</td>\n",
              "      <td>It is possible to become a VFX artist without...</td>\n",
              "    </tr>\n",
              "    <tr>\n",
              "      <th>3</th>\n",
              "      <td>\\nStart with some experience or interest in ar...</td>\n",
              "      <td>How to Become an Art Investor</td>\n",
              "      <td>The best art investors do their research on t...</td>\n",
              "    </tr>\n",
              "    <tr>\n",
              "      <th>4</th>\n",
              "      <td>\\nKeep your reference materials, sketches, art...</td>\n",
              "      <td>How to Be an Organized Artist2</td>\n",
              "      <td>As you start planning for a project or work, ...</td>\n",
              "    </tr>\n",
              "    <tr>\n",
              "      <th>...</th>\n",
              "      <td>...</td>\n",
              "      <td>...</td>\n",
              "      <td>...</td>\n",
              "    </tr>\n",
              "    <tr>\n",
              "      <th>215360</th>\n",
              "      <td>\\nConsider changing the spelling of your name....</td>\n",
              "      <td>How to Pick a Stage Name3</td>\n",
              "      <td>If you have a name that you like, you might f...</td>\n",
              "    </tr>\n",
              "    <tr>\n",
              "      <th>215361</th>\n",
              "      <td>\\nTry out your name.,\\nDon’t legally change yo...</td>\n",
              "      <td>How to Pick a Stage Name4</td>\n",
              "      <td>Your name might sound great to you when you s...</td>\n",
              "    </tr>\n",
              "    <tr>\n",
              "      <th>215362</th>\n",
              "      <td>\\nUnderstand the process of relief printing.,\\...</td>\n",
              "      <td>How to Identify Prints1</td>\n",
              "      <td>Relief printing is the oldest and most tradit...</td>\n",
              "    </tr>\n",
              "    <tr>\n",
              "      <th>215363</th>\n",
              "      <td>\\nUnderstand the process of intaglio printing....</td>\n",
              "      <td>How to Identify Prints2</td>\n",
              "      <td>Intaglio is Italian for \"incis­ing,\" and corr...</td>\n",
              "    </tr>\n",
              "    <tr>\n",
              "      <th>215364</th>\n",
              "      <td>\\nUnderstand the different varieties of lithog...</td>\n",
              "      <td>How to Identify Prints3</td>\n",
              "      <td>Lithography is a big term often used to refer...</td>\n",
              "    </tr>\n",
              "  </tbody>\n",
              "</table>\n",
              "<p>215365 rows × 3 columns</p>\n",
              "</div>"
            ],
            "text/plain": [
              "                                                 headline  ...                                               text\n",
              "0       \\nKeep related supplies in the same area.,\\nMa...  ...   If you're a photographer, keep all the necess...\n",
              "1       \\nCreate a sketch in the NeoPopRealist manner ...  ...   See the image for how this drawing develops s...\n",
              "2       \\nGet a bachelor’s degree.,\\nEnroll in a studi...  ...   It is possible to become a VFX artist without...\n",
              "3       \\nStart with some experience or interest in ar...  ...   The best art investors do their research on t...\n",
              "4       \\nKeep your reference materials, sketches, art...  ...   As you start planning for a project or work, ...\n",
              "...                                                   ...  ...                                                ...\n",
              "215360  \\nConsider changing the spelling of your name....  ...   If you have a name that you like, you might f...\n",
              "215361  \\nTry out your name.,\\nDon’t legally change yo...  ...   Your name might sound great to you when you s...\n",
              "215362  \\nUnderstand the process of relief printing.,\\...  ...   Relief printing is the oldest and most tradit...\n",
              "215363  \\nUnderstand the process of intaglio printing....  ...   Intaglio is Italian for \"incis­ing,\" and corr...\n",
              "215364  \\nUnderstand the different varieties of lithog...  ...   Lithography is a big term often used to refer...\n",
              "\n",
              "[215365 rows x 3 columns]"
            ]
          },
          "metadata": {
            "tags": []
          },
          "execution_count": 5
        }
      ]
    },
    {
      "cell_type": "code",
      "metadata": {
        "id": "RvN7beyJZ8BT",
        "colab_type": "code",
        "colab": {}
      },
      "source": [
        "# create a file to record the file names. This can be later used to divide the dataset in train/dev/test sets\n",
        "title_file = open('/content/drive/My Drive/NLP PROJ/wikihow/titles.txt', 'wb')\n",
        "\n",
        "# The path where the articles are to be saved\n",
        "path = \"/content/drive/My Drive/NLP PROJ/wikihow/articles\"\n",
        "if not os.path.exists(path): os.makedirs(path)\n",
        "\n",
        "# go over the all the articles in the data file\n",
        "for row in range(rows):\n",
        "    abstract = Data.iloc[row,0]      # headline is the column representing the summary sentences\n",
        "    article = Data.iloc[row,2]           # text is the column representing the article\n",
        "\n",
        "    #  a threshold is used to remove short articles with long summaries as well as articles with no summary\n",
        "    if len(abstract) < (0.75*len(article)):\n",
        "        # remove extra commas in abstracts\n",
        "        abstract = abstract.replace(\".,\",\".\")\n",
        "        abstract = abstract.encode('utf-8')\n",
        "        # remove extra commas in articles\n",
        "        article = re.sub(r'[.]+[\\n]+[,]',\".\\n\", article)\n",
        "        article = article.encode('utf-8')\n",
        "        \n",
        "\n",
        "        # a temporary file is created to initially write the summary, it is later used to separate the sentences of the summary\n",
        "        with open('/content/drive/My Drive/NLP PROJ/wikihow/temporaryFile.txt','wb') as t:\n",
        "            t.write(abstract)\n",
        "        \n",
        "        # file names are created using the alphanumeric charachters from the article titles.\n",
        "        # they are stored in a separate text file.\n",
        "        filename = Data.iloc[row,1]\n",
        "        filename = \"\".join(x for x in filename if x.isalnum())\n",
        "        filename1 = filename + '.txt'\n",
        "        filename = filename.encode('utf-8')\n",
        "        title_file.write(filename+b'\\n')\n",
        "\n",
        "        \n",
        "        with open(path+'/'+filename1,'wb') as f:\n",
        "            # summary sentences will first be written into the file in separate lines\n",
        "            with open('/content/drive/My Drive/NLP PROJ/wikihow/temporaryFile.txt','r') as t:\n",
        "                for line in t:\n",
        "                    line=line.lower()\n",
        "                    if line != \"\\n\" and line != \"\\t\" and line != \" \":\n",
        "                        f.write(b'@summary'+b'\\n')\n",
        "                        f.write(line.encode('utf-8'))\n",
        "                        f.write(b'\\n')\n",
        "                    \n",
        "            # finally the article is written to the file\n",
        "            f.write(b'@article' + b'\\n')    \n",
        "            f.write(article)\n",
        "\n",
        "title_file.close()"
      ],
      "execution_count": 0,
      "outputs": []
    },
    {
      "cell_type": "code",
      "metadata": {
        "id": "_u9-XKp_WIfs",
        "colab_type": "code",
        "colab": {}
      },
      "source": [
        ""
      ],
      "execution_count": 0,
      "outputs": []
    }
  ]
}